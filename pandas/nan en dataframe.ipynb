{
 "cells": [
  {
   "cell_type": "markdown",
   "metadata": {},
   "source": [
    "# Trabajar con datos NaN en dataframe "
   ]
  },
  {
   "cell_type": "markdown",
   "metadata": {},
   "source": [
    "Se crea un dataframe con datos vacíos para generar los *NaN*, en este caso se agregan datos tipo *None* a la lista, que es el equivalente a leer un archivo de Excel o de un csv en los que faltan valores."
   ]
  },
  {
   "cell_type": "code",
   "execution_count": 1,
   "metadata": {
    "collapsed": false
   },
   "outputs": [
    {
     "name": "stdout",
     "output_type": "stream",
     "text": [
      "    a   b   c\n",
      "0 NaN   1  54\n",
      "1   3   3 NaN\n",
      "2 NaN   4 NaN\n",
      "3   5   6  32\n",
      "4   6 NaN  21\n",
      "\n",
      "[5 rows x 3 columns]\n"
     ]
    }
   ],
   "source": [
    "import pandas as pd\n",
    "\n",
    "df = pd.DataFrame({'a':[None, 3, None, 5, 6], 'b':[1, 3, 4, 6, None], 'c':[54, None, None, 32, 21]})\n",
    "print df"
   ]
  },
  {
   "cell_type": "markdown",
   "metadata": {},
   "source": [
    "## Reconocer los valores NaN"
   ]
  },
  {
   "cell_type": "markdown",
   "metadata": {},
   "source": [
    "Con este comando devuelve una tabla booleana con <i>True</i> si el valor es un *NaN* o <i>False</i> si no lo es."
   ]
  },
  {
   "cell_type": "code",
   "execution_count": 2,
   "metadata": {
    "collapsed": false
   },
   "outputs": [
    {
     "name": "stdout",
     "output_type": "stream",
     "text": [
      "       a      b      c\n",
      "0   True  False  False\n",
      "1  False  False   True\n",
      "2   True  False   True\n",
      "3  False  False  False\n",
      "4  False   True  False\n",
      "\n",
      "[5 rows x 3 columns]\n"
     ]
    }
   ],
   "source": [
    "df_bool = pd.isnull(df)\n",
    "print df_bool"
   ]
  },
  {
   "cell_type": "markdown",
   "metadata": {},
   "source": [
    "## Eliminar todos los NaN del dataframe"
   ]
  },
  {
   "cell_type": "markdown",
   "metadata": {},
   "source": [
    "Este comando elimina todas las filas que contengan un valor *NaN*"
   ]
  },
  {
   "cell_type": "code",
   "execution_count": 3,
   "metadata": {
    "collapsed": false
   },
   "outputs": [
    {
     "name": "stdout",
     "output_type": "stream",
     "text": [
      "   a  b   c\n",
      "3  5  6  32\n",
      "\n",
      "[1 rows x 3 columns]\n"
     ]
    }
   ],
   "source": [
    "df_sin_nan = df.dropna(how='any')\n",
    "print df_sin_nan"
   ]
  },
  {
   "cell_type": "markdown",
   "metadata": {},
   "source": [
    "## Rellenar NaN del dataframe"
   ]
  },
  {
   "cell_type": "markdown",
   "metadata": {},
   "source": [
    "### Asignando un valor"
   ]
  },
  {
   "cell_type": "markdown",
   "metadata": {},
   "source": [
    "Es posible dar un valor específico a los *NaN*. En la siguiente línea se reemplazan todos los *NaN* por 3"
   ]
  },
  {
   "cell_type": "code",
   "execution_count": 4,
   "metadata": {
    "collapsed": false
   },
   "outputs": [
    {
     "name": "stdout",
     "output_type": "stream",
     "text": [
      "   a  b   c\n",
      "0  3  1  54\n",
      "1  3  3   3\n",
      "2  3  4   3\n",
      "3  5  6  32\n",
      "4  6  3  21\n",
      "\n",
      "[5 rows x 3 columns]\n"
     ]
    }
   ],
   "source": [
    "df_nuevo = df.fillna(value=3)\n",
    "print df_nuevo"
   ]
  },
  {
   "cell_type": "markdown",
   "metadata": {},
   "source": [
    "Reemplazar los *NaN* con el valor promedio de cada columna:"
   ]
  },
  {
   "cell_type": "code",
   "execution_count": 5,
   "metadata": {
    "collapsed": false
   },
   "outputs": [
    {
     "name": "stdout",
     "output_type": "stream",
     "text": [
      "          a    b          c\n",
      "0  4.666667  1.0  54.000000\n",
      "1  3.000000  3.0  35.666667\n",
      "2  4.666667  4.0  35.666667\n",
      "3  5.000000  6.0  32.000000\n",
      "4  6.000000  3.5  21.000000\n",
      "\n",
      "[5 rows x 3 columns]\n"
     ]
    }
   ],
   "source": [
    "df_nuevo = df.fillna(df.mean())\n",
    "print df_nuevo"
   ]
  },
  {
   "cell_type": "markdown",
   "metadata": {},
   "source": [
    "### Con los valores vecinos"
   ]
  },
  {
   "cell_type": "markdown",
   "metadata": {},
   "source": [
    "Reemplazar los *NaN* con el valor anterior o posterior del *NaN*: <i>'pad'</i> para reemplazarlo con el valor anterior y <i>'bfill'</i> con el posterior. Se reemplazan todos los *NaN*, pero se puede establecer un límite según la distancia de este con el último dato del dataframe. Esta distancia se especifica en <i>limit</i>:"
   ]
  },
  {
   "cell_type": "code",
   "execution_count": 6,
   "metadata": {
    "collapsed": false
   },
   "outputs": [
    {
     "name": "stdout",
     "output_type": "stream",
     "text": [
      "   a   b   c\n",
      "0  3   1  54\n",
      "1  3   3 NaN\n",
      "2  5   4  32\n",
      "3  5   6  32\n",
      "4  6 NaN  21\n",
      "\n",
      "[5 rows x 3 columns]\n"
     ]
    }
   ],
   "source": [
    "df_nuevo = df.fillna(method='bfill', limit=1)\n",
    "print df_nuevo"
   ]
  },
  {
   "cell_type": "markdown",
   "metadata": {},
   "source": [
    "Sin el límite:"
   ]
  },
  {
   "cell_type": "code",
   "execution_count": 7,
   "metadata": {
    "collapsed": false
   },
   "outputs": [
    {
     "name": "stdout",
     "output_type": "stream",
     "text": [
      "    a   b   c\n",
      "0 NaN   1  54\n",
      "1   3   3 NaN\n",
      "2 NaN   4 NaN\n",
      "3   5   6  32\n",
      "4   6 NaN  21\n",
      "\n",
      "[5 rows x 3 columns] \n",
      "\n",
      "    a  b   c\n",
      "0 NaN  1  54\n",
      "1   3  3  54\n",
      "2   3  4  54\n",
      "3   5  6  32\n",
      "4   6  6  21\n",
      "\n",
      "[5 rows x 3 columns]\n"
     ]
    }
   ],
   "source": [
    "df_nuevo = df.fillna(method='pad')\n",
    "print df, '\\n'\n",
    "print df_nuevo"
   ]
  },
  {
   "cell_type": "markdown",
   "metadata": {},
   "source": [
    "### Interpolando"
   ]
  },
  {
   "cell_type": "markdown",
   "metadata": {},
   "source": [
    "Para reemplazar los *NaN* interpolando con el resto de datos conocidos se usa la función <i>interpolate</i>:"
   ]
  },
  {
   "cell_type": "code",
   "execution_count": 8,
   "metadata": {
    "collapsed": false
   },
   "outputs": [
    {
     "name": "stdout",
     "output_type": "stream",
     "text": [
      "    a  b          c\n",
      "0 NaN  1  54.000000\n",
      "1   3  3  46.666667\n",
      "2   4  4  39.333333\n",
      "3   5  6  32.000000\n",
      "4   6  6  21.000000\n",
      "\n",
      "[5 rows x 3 columns]\n"
     ]
    }
   ],
   "source": [
    "df_inter = df.interpolate(method='linear')\n",
    "print df_inter"
   ]
  },
  {
   "cell_type": "markdown",
   "metadata": {},
   "source": [
    "<b>Otros métodos de interpolación</b><BR>\n",
    "<b>method :</b> ‘linear’, ‘time’, ‘index’, ‘values’, ‘nearest’, ‘zero’, ‘slinear’, ‘quadratic’, ‘cubic’, ‘barycentric’, ‘krogh’, ‘polynomial’, ‘spline’ ‘piecewise_polynomial’, ‘pchip’.\n"
   ]
  }
 ],
 "metadata": {
  "kernelspec": {
   "display_name": "Python 2",
   "language": "python",
   "name": "python2"
  },
  "language_info": {
   "codemirror_mode": {
    "name": "ipython",
    "version": 2
   },
   "file_extension": ".py",
   "mimetype": "text/x-python",
   "name": "python",
   "nbconvert_exporter": "python",
   "pygments_lexer": "ipython2",
   "version": "2.7.6"
  }
 },
 "nbformat": 4,
 "nbformat_minor": 0
}
